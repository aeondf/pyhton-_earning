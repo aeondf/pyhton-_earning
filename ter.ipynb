{
 "cells": [
  {
   "cell_type": "code",
   "execution_count": null,
   "id": "c9dcc17a",
   "metadata": {},
   "outputs": [],
   "source": [
    "#создание класса\n",
    "\n",
    "class Person:\n",
    "    name = \"John\"\n",
    "    age = 36\n",
    "    country = \"USA\"\n",
    "\n",
    "p1 = Person()\n",
    "\n",
    "print(p1.name)\n",
    "print(p1.age)\n",
    "print(p1.country)"
   ]
  },
  {
   "cell_type": "code",
   "execution_count": null,
   "id": "1c930759",
   "metadata": {},
   "outputs": [],
   "source": [
    "#Редактирование атририбутов\n",
    "class Person:\n",
    "    name = \"John\"\n",
    "    age = 36\n",
    "\n",
    "p1 = Person()\n",
    "p1.age = 40\n",
    "print(p1.age)"
   ]
  },
  {
   "cell_type": "markdown",
   "id": "3955c7b9",
   "metadata": {},
   "source": [
    "self.name → публичный атрибут (можно свободно менять)\n",
    "\n",
    "self._name → «защищённый» атрибут (не трогать напрямую, но всё равно можно)\n",
    "\n",
    "self.__name → «приватный» атрибут (Python делает name mangling: obj._ClassName__name)"
   ]
  },
  {
   "cell_type": "markdown",
   "id": "c71a9e31",
   "metadata": {},
   "source": [
    "Чтобы контролировать доступ к приватным данным, создают специальные методы:\n",
    "\n",
    "геттер — возвращает значение\n",
    "\n",
    "сеттер — изменяет значение"
   ]
  },
  {
   "cell_type": "markdown",
   "id": "a17aff84",
   "metadata": {},
   "source": [
    "Наследование — это возможность создать новый класс на основе уже существующего.\n",
    "\n",
    "Родительский класс (суперкласс) — тот, от которого наследуем.\n",
    "\n",
    "Дочерний класс (сабкласс) — тот, который наследует."
   ]
  },
  {
   "cell_type": "code",
   "execution_count": null,
   "id": "01bbb5b2",
   "metadata": {},
   "outputs": [],
   "source": [
    "class Animal:\n",
    "    def __init__(self, name):\n",
    "        self.name = name\n",
    "    \n",
    "    def speak(self):\n",
    "        print(f\"{self.name} издаёт звук\")\n",
    "\n",
    "class Dog(Animal):   # наследуем от Animal\n",
    "    def speak(self):\n",
    "        print(f\"{self.name} гавкает 🐶\")\n",
    "\n",
    "class Cat(Animal):\n",
    "    def speak(self):\n",
    "        print(f\"{self.name} мяукает 🐱\")\n",
    "\n",
    "dog = Dog(\"Шарик\")\n",
    "cat = Cat(\"Мурка\")\n",
    "\n",
    "dog.speak()  # Шарик гавкает 🐶\n",
    "cat.speak()  # Мурка мяукает 🐱\n"
   ]
  },
  {
   "cell_type": "code",
   "execution_count": null,
   "id": "d198c566",
   "metadata": {},
   "outputs": [],
   "source": [
    "#super()\n",
    "class Person:\n",
    "    def __init__(self, name, age):\n",
    "        self.name = name\n",
    "        self.age = age\n",
    "\n",
    "class Student(Person):\n",
    "    def __init__(self, name, age, grade):\n",
    "        super().__init__(name, age)   # вызываем конструктор родителя\n",
    "        self.grade = grade\n"
   ]
  },
  {
   "cell_type": "code",
   "execution_count": null,
   "id": "3ddaa4f7",
   "metadata": {},
   "outputs": [],
   "source": [
    "#множествнное наследование\n",
    "class Flyer:\n",
    "    def fly(self):\n",
    "        print(\"Я умею летать ✈️\")\n",
    "\n",
    "class Swimmer:\n",
    "    def swim(self):\n",
    "        print(\"Я умею плавать 🏊\")\n",
    "\n",
    "class Duck(Flyer, Swimmer):\n",
    "    pass\n",
    "\n",
    "d = Duck()\n",
    "d.fly()   # Я умею летать ✈️\n",
    "d.swim()  # Я умею плавать 🏊\n"
   ]
  },
  {
   "cell_type": "markdown",
   "id": "b5769b41",
   "metadata": {},
   "source": [
    "Полиморфизм — это способность объектов разных классов реагировать на один и тот же метод по-разному.\n",
    "\n",
    "То есть у разных классов может быть метод с одинаковым именем, но выполняющий разное действие.\n",
    "Когда мы вызываем этот метод, Python сам выбирает правильную реализацию для конкретного объекта."
   ]
  },
  {
   "cell_type": "code",
   "execution_count": null,
   "id": "b3d99064",
   "metadata": {},
   "outputs": [],
   "source": [
    "class Dog:\n",
    "    def speak(self):\n",
    "        return \"Гав 🐶\"\n",
    "\n",
    "class Cat:\n",
    "    def speak(self):\n",
    "        return \"Мяу 🐱\"\n",
    "\n",
    "animals = [Dog(), Cat()]\n",
    "\n",
    "for animal in animals:\n",
    "    print(animal.speak())\n"
   ]
  },
  {
   "cell_type": "code",
   "execution_count": null,
   "id": "63210749",
   "metadata": {},
   "outputs": [],
   "source": [
    "class Animal:\n",
    "    def speak(self):\n",
    "        return \"Животное издаёт звук\"\n",
    "\n",
    "class Dog(Animal):\n",
    "    def speak(self):\n",
    "        return \"Гав 🐶\"\n",
    "\n",
    "class Cat(Animal):\n",
    "    def speak(self):\n",
    "        return \"Мяу 🐱\"\n",
    "\n",
    "animals = [Dog(), Cat(), Animal()]\n",
    "\n",
    "for a in animals:\n",
    "    print(a.speak())\n"
   ]
  },
  {
   "cell_type": "code",
   "execution_count": null,
   "id": "afb671d1",
   "metadata": {},
   "outputs": [],
   "source": [
    "#Абстрактные классы (обязательные методы у наследников)\n",
    "from abc import ABC, abstractmethod\n",
    "\n",
    "class Shape(ABC):\n",
    "    @abstractmethod\n",
    "    def area(self):\n",
    "        pass\n",
    "\n",
    "class Square(Shape):\n",
    "    def __init__(self, side):\n",
    "        self.side = side\n",
    "    \n",
    "    def area(self):\n",
    "        return self.side * self.side\n",
    "\n",
    "class Circle(Shape):\n",
    "    def __init__(self, radius):\n",
    "        self.radius = radius\n",
    "    \n",
    "    def area(self):\n",
    "        return 3.14 * self.radius * self.radius\n",
    "\n",
    "shapes = [Square(4), Circle(3)]\n",
    "for s in shapes:\n",
    "    print(s.area())\n"
   ]
  },
  {
   "cell_type": "markdown",
   "id": "9db1ea69",
   "metadata": {},
   "source": [
    "Абстракция — это принцип ООП, при котором мы выделяем только важные характеристики объекта, скрывая ненужные детали реализации.\n",
    "\n",
    "В реальной жизни:\n",
    "\n",
    "Когда ты садишься за руль автомобиля 🚗, тебе важно уметь нажимать на педали и крутить руль.\n",
    "\n",
    "Но ты не обязан знать, как именно работает двигатель внутри.\n",
    "\n",
    "📌 Абстракция = «что объект делает», а не «как он это делает»."
   ]
  },
  {
   "cell_type": "code",
   "execution_count": null,
   "id": "8c97e387",
   "metadata": {},
   "outputs": [],
   "source": [
    "from abc import ABC, abstractmethod\n",
    "\n",
    "class Payment(ABC):\n",
    "    @abstractmethod\n",
    "    def pay(self, amount):\n",
    "        pass\n",
    "\n",
    "class CreditCardPayment(Payment):\n",
    "    def pay(self, amount):\n",
    "        print(f\"Оплата {amount} через кредитную карту 💳\")\n",
    "\n",
    "class PayPalPayment(Payment):\n",
    "    def pay(self, amount):\n",
    "        print(f\"Оплата {amount} через PayPal 🅿️\")\n",
    "\n",
    "# Пользователь работает с \"Payment\", не зная деталей реализации\n",
    "payments = [CreditCardPayment(), PayPalPayment()]\n",
    "for p in payments:\n",
    "    p.pay(100)\n"
   ]
  },
  {
   "cell_type": "markdown",
   "id": "007f9ca8",
   "metadata": {},
   "source": [
    "Композиция\n",
    "\n",
    "Композиция = «жёсткая связь».\n",
    "\n",
    "Если удалить объект-владельца, то удаляются и все его части.\n",
    "\n",
    "«Часть» не может существовать без «целого»."
   ]
  },
  {
   "cell_type": "code",
   "execution_count": null,
   "id": "88d5ab2e",
   "metadata": {},
   "outputs": [],
   "source": [
    "class Engine:\n",
    "    def start(self):\n",
    "        print(\"Двигатель запущен 🔥\")\n",
    "\n",
    "class Car:\n",
    "    def __init__(self):\n",
    "        self.engine = Engine()  # создаём двигатель внутри машины\n",
    "    \n",
    "    def drive(self):\n",
    "        self.engine.start()\n",
    "        print(\"Машина поехала 🚗\")\n",
    "\n",
    "car = Car()\n",
    "car.drive()\n"
   ]
  },
  {
   "cell_type": "markdown",
   "id": "b3d41b15",
   "metadata": {},
   "source": [
    "Агрегация = «слабая связь».\n",
    "\n",
    "«Часть» может существовать сама по себе.\n",
    "\n",
    "Мы передаём объект в класс извне."
   ]
  },
  {
   "cell_type": "code",
   "execution_count": null,
   "id": "3b09fd22",
   "metadata": {},
   "outputs": [],
   "source": [
    "class Engine:\n",
    "    def start(self):\n",
    "        print(\"Двигатель запущен 🔥\")\n",
    "\n",
    "class Car:\n",
    "    def __init__(self, engine):\n",
    "        self.engine = engine  # двигатель передаём извне\n",
    "    \n",
    "    def drive(self):\n",
    "        self.engine.start()\n",
    "        print(\"Машина поехала 🚗\")\n",
    "\n",
    "engine = Engine()\n",
    "car = Car(engine)  # передаём двигатель готовым объектом\n",
    "car.drive()\n"
   ]
  }
 ],
 "metadata": {
  "language_info": {
   "name": "python"
  }
 },
 "nbformat": 4,
 "nbformat_minor": 5
}
